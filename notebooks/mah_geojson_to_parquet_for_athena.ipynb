{
  "nbformat": 4,
  "nbformat_minor": 0,
  "metadata": {
    "colab": {
      "name": "geojson_to_parquet_for_athena",
      "provenance": []
    },
    "kernelspec": {
      "name": "python3",
      "display_name": "Python 3"
    },
    "language_info": {
      "name": "python"
    }
  },
  "cells": [
    {
      "cell_type": "code",
      "metadata": {
        "colab": {
          "base_uri": "https://localhost:8080/"
        },
        "id": "ok8CLwapGCaj",
        "outputId": "9cc677ec-8d7c-4aa0-91dd-bd8668fcc086"
      },
      "source": [
        "from google.colab import drive\n",
        "drive.mount('/content/drive')"
      ],
      "execution_count": null,
      "outputs": [
        {
          "output_type": "stream",
          "name": "stdout",
          "text": [
            "Mounted at /content/drive\n"
          ]
        }
      ]
    },
    {
      "cell_type": "code",
      "metadata": {
        "colab": {
          "base_uri": "https://localhost:8080/"
        },
        "id": "iWtQyugPHe5U",
        "outputId": "4e0e67f1-010d-44c1-bef8-aa011e5c22c4"
      },
      "source": [
        "!pip install dictor"
      ],
      "execution_count": null,
      "outputs": [
        {
          "output_type": "stream",
          "name": "stdout",
          "text": [
            "Collecting dictor\n",
            "  Downloading dictor-0.1.7.tar.gz (6.2 kB)\n",
            "Building wheels for collected packages: dictor\n",
            "  Building wheel for dictor (setup.py) ... \u001b[?25l\u001b[?25hdone\n",
            "  Created wheel for dictor: filename=dictor-0.1.7-py3-none-any.whl size=5741 sha256=3e3a686fd89d1ecdf2affef3f57e626a148a08eb2ce5fa80c57c302747556466\n",
            "  Stored in directory: /root/.cache/pip/wheels/07/61/ee/6799865aa0d1eb9e70cb7306329569c345f5e63eb11177757e\n",
            "Successfully built dictor\n",
            "Installing collected packages: dictor\n",
            "Successfully installed dictor-0.1.7\n"
          ]
        }
      ]
    },
    {
      "cell_type": "code",
      "metadata": {
        "id": "bF89XZvbF9KA"
      },
      "source": [
        "#https://blog.bigdataboutique.com/2021/04/geospatial-analysis-with-presto-m2nqdw\n",
        "\n",
        "from geomet import wkt\n",
        "import json\n",
        "from dictor import dictor\n",
        "import os\n",
        "import pyarrow as pa\n",
        "import pyarrow.parquet as pq\n",
        "\n",
        "import pandas as pd\n",
        "\n",
        "Outputs_Data_Area = \"/content/drive/Shareddrives/IDFC Institute Team Drive/World Bank Data/Maharashtra/Data and Methods/Data and supporting info/EDA/outlogic\"\n",
        "with open('/content/drive/Shareddrives/IDFC Institute Team Drive/World Bank Data/Maharashtra/Data and Methods/Data and supporting info/mh_dist.geojson', mode='rb') as f:\n",
        "  d = json.load(f)\n",
        "\n",
        "results = []\n",
        "\n",
        "##For loop pulls only name of admin level 5 \n",
        "for i in d['features']:\n",
        "  result = {}\n",
        "  name = dictor(i,\"properties.name\")\n",
        "  type = dictor(i,\"geometry.type\")\n",
        "  admin_level = dictor(i,\"properties.admin_level\")\n",
        "  geojson = dictor(i, \"geometry\")\n",
        "  if type in ['Polygon','MultiPolygon'] and admin_level in ['5']:\n",
        "    result['name'] = name\n",
        "    result['coordinates'] = wkt.dumps(geojson,decimals=7)\n",
        "    results.append(result)\n",
        "#\n",
        "data_frame = pd.DataFrame(results)\n",
        "table = pa.Table.from_pandas(data_frame)\n",
        "\n",
        "#mh_outlogic_day_data = consolidated_outlogic_df.loc[consolidated_outlogic_df['iso_region'] == 'IN-MH']\n",
        "Output_File_Name_w_Path=os.path.join(Outputs_Data_Area, \"mh_districts_v3.parquet\")\n",
        "data_frame.to_parquet(Output_File_Name_w_Path)\n",
        "\n",
        "#filesystem = s3fs.S3FileSystem()\n",
        "#path = \"s3://s3-path-here\"\n",
        "#pq.write_to_dataset(table, root_path=path, compression='gzip', filesystem=filesystem)"
      ],
      "execution_count": null,
      "outputs": []
    },
    {
      "cell_type": "code",
      "metadata": {
        "colab": {
          "base_uri": "https://localhost:8080/"
        },
        "id": "Givfzz9bLjTl",
        "outputId": "76c61591-d9ab-4f7b-9939-683f059e4569"
      },
      "source": [
        "print(data_frame)"
      ],
      "execution_count": null,
      "outputs": [
        {
          "output_type": "stream",
          "name": "stdout",
          "text": [
            "                   name                                        coordinates\n",
            "0                 Dhule  POLYGON ((73.8497543 20.9993861, 73.8565241 20...\n",
            "1              Nandubar  POLYGON ((73.8291744 21.7837943, 73.8294339 21...\n",
            "2                Nashik  POLYGON ((73.4966885 19.7616988, 73.4967958 19...\n",
            "3            Ahmednagar  POLYGON ((73.6841224 19.4452494, 73.6851311 19...\n",
            "4         Pune District  POLYGON ((74.5463562 18.5078543, 74.5482015 18...\n",
            "5                Satara  POLYGON ((74.0485592 18.1385433, 74.0477872 18...\n",
            "6             Ratnagiri  MULTIPOLYGON (((73.0895949 17.8104753, 73.0896...\n",
            "7      Gondiya District  POLYGON ((80.3215678 20.7590720, 80.3217745 20...\n",
            "8            Gadchiroli  POLYGON ((80.2735936 18.9709341, 80.2738621 18...\n",
            "9   Chandrapur District  POLYGON ((79.5184513 19.5437628, 79.5227128 19...\n",
            "10    Bhandara District  POLYGON ((79.7537215 20.7182703, 79.7538435 20...\n",
            "11      Nagpur District  POLYGON ((79.5392347 21.5422918, 79.5400616 21...\n",
            "12               Wardha  POLYGON ((78.1503439 21.0742289, 78.1503439 21...\n",
            "13             Yavatmal  POLYGON ((78.7104857 19.7698739, 78.7151849 19...\n",
            "14               Washim  POLYGON ((77.6486095 20.4607885, 77.6491196 20...\n",
            "15                Akola  POLYGON ((77.1915963 21.2352499, 77.1918753 21...\n",
            "16      Nanded district  POLYGON ((77.7303351 18.6514746, 77.7286147 18...\n",
            "17              Hingoli  POLYGON ((77.1288299 19.9417641, 77.1276927 19...\n",
            "18              Jalgaon  POLYGON ((74.9343967 20.9258486, 74.9342680 20...\n",
            "19           Aurangabad  POLYGON ((75.2254271 20.4944415, 75.2245259 20...\n",
            "20                Jalna  POLYGON ((76.3761755 19.5360314, 76.3769096 19...\n",
            "21             Parbhani  POLYGON ((76.8939864 19.6425876, 76.8922376 19...\n",
            "22                  Bid  POLYGON ((75.1560545 18.6419959, 75.1572346 18...\n",
            "23                Latur  POLYGON ((76.8877945 18.8367038, 76.8866060 18...\n",
            "24      Sangli district  POLYGON ((74.8485017 17.2047845, 74.8494780 17...\n",
            "25    Kolhapur district  POLYGON ((74.4586372 16.6487740, 74.4704818 16...\n",
            "26           Sindhudurg  MULTIPOLYGON (((73.4563440 15.8882325, 73.4561...\n",
            "27              Solapur  POLYGON ((76.0723819 17.3348699, 76.0745394 17...\n",
            "28            Osmanabad  POLYGON ((76.7401456 17.8988893, 76.7389215 17...\n",
            "29             Buldhana  POLYGON ((75.9970739 20.7767346, 75.9954357 20...\n",
            "30      Mumbai Suburban  POLYGON ((72.8853810 19.0079432, 72.8855621 19...\n",
            "31          Mumbai City  MULTIPOLYGON (((72.8235497 18.9414646, 72.8236...\n",
            "32               Raigad  MULTIPOLYGON (((73.0164403 18.0302759, 73.0177...\n",
            "33                Thane  MULTIPOLYGON (((72.7636903 19.2856197, 72.7638...\n",
            "34             Amravati  POLYGON ((77.1759751 21.0728148, 77.1760395 21...\n",
            "35              Palghar  MULTIPOLYGON (((72.7149492 20.0261675, 72.7143...\n"
          ]
        }
      ]
    }
  ]
}